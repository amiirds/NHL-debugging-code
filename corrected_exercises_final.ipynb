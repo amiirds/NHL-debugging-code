{
 "cells": [
  {
   "cell_type": "code",
   "execution_count": null,
   "id": "a650785d",
   "metadata": {},
   "outputs": [],
   "source": [
    "\n",
    "# Install the required packages\n",
    "!pip install pillow\n",
    "!pip install torch\n",
    "!pip install torchvision\n"
   ]
  },
  {
   "cell_type": "code",
   "execution_count": null,
   "id": "0e017993",
   "metadata": {},
   "outputs": [],
   "source": [
    "\n",
    "from typing import Set\n",
    "\n",
    "def id_to_fruit(fruit_id: int, fruits: Set[str]) -> str:\n",
    "    fruits_list = list(fruits)\n",
    "    if fruit_id < 0 or fruit_id >= len(fruits_list):\n",
    "        raise RuntimeError(f\"Fruit with id {fruit_id} does not exist\")\n",
    "    return fruits_list[fruit_id]\n",
    "\n",
    "# Testing the corrected function\n",
    "name1_corrected = id_to_fruit(1, {\"apple\", \"orange\", \"melon\", \"kiwi\", \"strawberry\"})\n",
    "name3_corrected = id_to_fruit(3, {\"apple\", \"orange\", \"melon\", \"kiwi\", \"strawberry\"})\n",
    "name4_corrected = id_to_fruit(4, {\"apple\", \"orange\", \"melon\", \"kiwi\", \"strawberry\"})\n",
    "\n",
    "(name1_corrected, name3_corrected, name4_corrected)\n"
   ]
  },
  {
   "cell_type": "code",
   "execution_count": null,
   "id": "1352cf6c",
   "metadata": {},
   "outputs": [],
   "source": [
    "\n",
    "import numpy as np\n",
    "\n",
    "def swap(coords: np.ndarray):\n",
    "    coords[:, [0, 1]] = coords[:, [1, 0]]\n",
    "    coords[:, [2, 3]] = coords[:, [3, 2]]\n",
    "    return coords\n",
    "\n",
    "# Testing the corrected function\n",
    "coords_corrected = np.array([[10, 5, 15, 6, 0],\n",
    "                             [11, 3, 13, 6, 0],\n",
    "                             [5, 3, 13, 6, 1],\n",
    "                             [4, 4, 13, 6, 1],\n",
    "                             [6, 5, 13, 16, 1]])\n",
    "swapped_coords_corrected = swap(coords_corrected)\n",
    "swapped_coords_corrected\n"
   ]
  },
  {
   "cell_type": "code",
   "execution_count": null,
   "id": "d1ca603f",
   "metadata": {},
   "outputs": [],
   "source": [
    "\n",
    "from PIL import Image, ImageEnhance\n",
    "\n",
    "def adjust_brightness(image: Image.Image, brightness_factor: float) -> Image.Image:\n",
    "    if not isinstance(image, Image.Image):\n",
    "        raise ValueError(\"The input is not a valid Image object.\")\n",
    "    if brightness_factor < 0:\n",
    "        raise ValueError(\"Brightness factor should be non-negative.\")\n",
    "    enhancer = ImageEnhance.Brightness(image)\n",
    "    return enhancer.enhance(brightness_factor)\n",
    "\n",
    "# Testing the corrected function\n",
    "# image = Image.open(\"path_to_image.jpg\")  # Uncomment and replace with actual image path\n",
    "# adjusted_image = adjust_brightness(image, 1.5)\n",
    "# adjusted_image.show()\n"
   ]
  },
  {
   "cell_type": "code",
   "execution_count": null,
   "id": "cd51152e",
   "metadata": {},
   "outputs": [],
   "source": [
    "\n",
    "import torch\n",
    "\n",
    "def normalize_tensor(tensor: torch.Tensor, mean: float, std: float) -> torch.Tensor:\n",
    "    if not torch.is_floating_point(tensor):\n",
    "        tensor = tensor.float()\n",
    "    if std == 0:\n",
    "        raise ValueError(\"Standard deviation cannot be zero.\")\n",
    "    return (tensor - mean) / std\n",
    "\n",
    "# Testing the corrected function\n",
    "tensor = torch.tensor([1.0, 2.0, 3.0])\n",
    "normalized_tensor = normalize_tensor(tensor, 0.0, 1.0)\n",
    "normalized_tensor\n"
   ]
  },
  {
   "cell_type": "code",
   "execution_count": null,
   "id": "d58839b6",
   "metadata": {},
   "outputs": [],
   "source": [
    "\n",
    "from typing import List\n",
    "from torchvision import transforms\n",
    "from PIL import Image\n",
    "\n",
    "def apply_transforms(image: Image.Image, transform_list: List[transforms.Compose]) -> Image.Image:\n",
    "    composed_transform = transforms.Compose(transform_list)\n",
    "    return composed_transform(image)\n",
    "\n",
    "# Testing the corrected function\n",
    "# image = Image.open(\"path_to_image.jpg\")  # Uncomment and replace with actual image path\n",
    "# transform_list = [transforms.Resize((256, 256)), transforms.ToTensor()]\n",
    "# transformed_image = apply_transforms(image, transform_list)\n",
    "# transformed_image\n"
   ]
  }
 ],
 "metadata": {},
 "nbformat": 4,
 "nbformat_minor": 5
}
